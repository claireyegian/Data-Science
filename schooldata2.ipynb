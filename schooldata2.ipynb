{
 "cells": [
  {
   "cell_type": "markdown",
   "metadata": {},
   "source": [
    "# School Census Analysis\n",
    "\n",
    "The dataset we will use is from the American Statistical \n",
    "Association’s [U.S. Census at School](https://ww2.amstat.org/censusatschool/) project and consists \n",
    "of a wide array of questions answered by American school \n",
    "students from all states and most grades. A 500-record dataset\n",
    "has been sampled and downloaded from this project and presented \n",
    "as an Excel file at http://bit.ly/2VuOA98\n",
    "\n",
    "No meta-data are available for this dataset. Fortunately, most of the \n",
    "field names are self-explanatory, although there may be a wide \n",
    "variation in how individual participants answered the questions.\n",
    "\n",
    "We'll compare at the heights and armspans of 500 high school students."
   ]
  },
  {
   "cell_type": "code",
   "execution_count": 34,
   "metadata": {},
   "outputs": [],
   "source": [
    "import matplotlib.pyplot as plt\n",
    "import pandas as pd\n",
    "import numpy as np\n",
    "pd.options.mode.chained_assignment = None  # default='warn'"
   ]
  },
  {
   "cell_type": "code",
   "execution_count": 35,
   "metadata": {},
   "outputs": [
    {
     "data": {
      "text/plain": [
       "Height      object\n",
       "Armspan    float64\n",
       "dtype: object"
      ]
     },
     "execution_count": 35,
     "metadata": {},
     "output_type": "execute_result"
    }
   ],
   "source": [
    "df = pd.read_excel(\"http://bit.ly/2VuOA98\")\n",
    "dfheight = df[['Height_cm', 'Armspan_cm']]\n",
    "dfheight.columns = ['Height','Armspan']\n",
    "dfheight.dtypes"
   ]
  },
  {
   "cell_type": "code",
   "execution_count": 36,
   "metadata": {},
   "outputs": [
    {
     "name": "stdout",
     "output_type": "stream",
     "text": [
      "[172 186 182 177.3 162 175 150 76 147 nan 167.6 180 62 183 157 157.5 178\n",
      " 185.4 170 140 185.9 '5í3' 0 149 173 159 158 \"5'3\" 160 166 174 64 125 164.6\n",
      " 175.5 177 165 165.7 100 176 152 152.4 165.1 195 167 175.3 154 171 163 181\n",
      " 168 170.2 72 5 57 169 14.98 187.5 5.6 165.5 96 190 184 67 179 181.6 61\n",
      " 195.6 161 148 185 164 155.5 182.8 12.7 157.8 132 155 189 63 188 187 195.2\n",
      " 162.5 153 160.2 183.4 154.9 66 163.5 198 172.2 192 171.4 177.8 163.4 151\n",
      " 170.1 5.1 70 180.3 '5\\'7\"' 164.5 87 54 1.78 156 5.4 175.2 \"5'4\" 69 187.9\n",
      " '157cm' 202 133 68 83 74 190.5 172.7 1.48 182.2 157.4 146 44567]\n",
      "[ 167.    182.5   181.    177.8   170.    178.     72.    147.    160.\n",
      "     nan  165.4   188.    149.5   187.    176.    170.6   148.    150.\n",
      "  180.    182.    168.    153.3    28.8   153.      0.    151.    189.\n",
      "  159.    155.     57.    155.5   158.    161.    193.     64.    171.\n",
      "   63.5    73.    162.    152.    177.    165.7    25.    110.     59.\n",
      "   50.    183.     69.5   200.    157.    166.    165.    179.    175.\n",
      "  154.    143.     69.     71.    169.      5.    184.4   173.    174.\n",
      "  164.      4.    185.     86.    172.2   170.5   103.    190.    175.5\n",
      "   66.    170.2   124.    183.5    63.    185.4    45.     70.    186.\n",
      "  163.    156.    167.6   125.    182.8   152.4   171.4    58.     95.\n",
      "  150.2   172.    195.    184.    181.7     1.    146.     83.    190.8\n",
      "  173.5   144.    178.4   164.5   163.5   164.2    26.5    56.    176.5\n",
      "  180.3    72.5    18.     65.     28.     76.    142.     75.     74.\n",
      "  192.5    90.    288.    121.    172.5   195.7   190.5    78.     68.\n",
      "   91.44  173.3    77.    140.     85.     84.    145.    134.     62.\n",
      "  196.    172.7   154.9    23.    149.    192.    165.1   162.5 ]\n"
     ]
    }
   ],
   "source": [
    "print(dfheight.Height.unique())\n",
    "print(dfheight.Armspan.unique())"
   ]
  },
  {
   "cell_type": "code",
   "execution_count": 37,
   "metadata": {},
   "outputs": [
    {
     "name": "stdout",
     "output_type": "stream",
     "text": [
      "[172 186 182 177.3 162 175 150 76 147 nan 167.6 180 62 183 157 157.5 178\n",
      " 185.4 170 140 185.9 '5í3' 0 149 173 159 158 \"5'3\" 160 166 174 64 125 164.6\n",
      " 175.5 177 165 165.7 100 176 152 152.4 165.1 195 167 175.3 154 171 163 181\n",
      " 168 170.2 72 5 57 169 14.98 187.5 5.6 165.5 96 190 184 67 179 181.6 61\n",
      " 195.6 161 148 185 164 155.5 182.8 12.7 157.8 132 155 189 63 188 187 195.2\n",
      " 162.5 153 160.2 183.4 154.9 66 163.5 198 172.2 192 171.4 177.8 163.4 151\n",
      " 170.1 5.1 70 180.3 '5\\'7\"' 164.5 87 54 1.78 156 5.4 175.2 \"5'4\" 69 187.9\n",
      " '157cm' 202 133 68 83 74 190.5 172.7 1.48 182.2 157.4 146 44567]\n",
      "[ 167.    182.5   181.    177.8   170.    178.     72.    147.    160.\n",
      "     nan  165.4   188.    149.5   187.    176.    170.6   148.    150.\n",
      "  180.    182.    168.    153.3    28.8   153.      0.    151.    189.\n",
      "  159.    155.     57.    155.5   158.    161.    193.     64.    171.\n",
      "   63.5    73.    162.    152.    177.    165.7    25.    110.     59.\n",
      "   50.    183.     69.5   200.    157.    166.    165.    179.    175.\n",
      "  154.    143.     69.     71.    169.      5.    184.4   173.    174.\n",
      "  164.      4.    185.     86.    172.2   170.5   103.    190.    175.5\n",
      "   66.    170.2   124.    183.5    63.    185.4    45.     70.    186.\n",
      "  163.    156.    167.6   125.    182.8   152.4   171.4    58.     95.\n",
      "  150.2   172.    195.    184.    181.7     1.    146.     83.    190.8\n",
      "  173.5   144.    178.4   164.5   163.5   164.2    26.5    56.    176.5\n",
      "  180.3    72.5    18.     65.     28.     76.    142.     75.     74.\n",
      "  192.5    90.    288.    121.    172.5   195.7   190.5    78.     68.\n",
      "   91.44  173.3    77.    140.     85.     84.    145.    134.     62.\n",
      "  196.    172.7   154.9    23.    149.    192.    165.1   162.5 ]\n"
     ]
    }
   ],
   "source": [
    "print(dfheight.Height.unique())\n",
    "print(dfheight.Armspan.unique())"
   ]
  },
  {
   "cell_type": "code",
   "execution_count": 38,
   "metadata": {},
   "outputs": [],
   "source": [
    "dfheight.Height = pd.to_numeric(dfheight.Height, errors='coerce')\n",
    "dfheight.Armspan = pd.to_numeric(dfheight.Armspan, errors='coerce')"
   ]
  },
  {
   "cell_type": "code",
   "execution_count": 39,
   "metadata": {},
   "outputs": [
    {
     "data": {
      "text/html": [
       "<div>\n",
       "<style>\n",
       "    .dataframe thead tr:only-child th {\n",
       "        text-align: right;\n",
       "    }\n",
       "\n",
       "    .dataframe thead th {\n",
       "        text-align: left;\n",
       "    }\n",
       "\n",
       "    .dataframe tbody tr th {\n",
       "        vertical-align: top;\n",
       "    }\n",
       "</style>\n",
       "<table border=\"1\" class=\"dataframe\">\n",
       "  <thead>\n",
       "    <tr style=\"text-align: right;\">\n",
       "      <th></th>\n",
       "      <th>Height</th>\n",
       "      <th>Armspan</th>\n",
       "    </tr>\n",
       "  </thead>\n",
       "  <tbody>\n",
       "    <tr>\n",
       "      <th>Height</th>\n",
       "      <td>1.000000</td>\n",
       "      <td>0.542759</td>\n",
       "    </tr>\n",
       "    <tr>\n",
       "      <th>Armspan</th>\n",
       "      <td>0.542759</td>\n",
       "      <td>1.000000</td>\n",
       "    </tr>\n",
       "  </tbody>\n",
       "</table>\n",
       "</div>"
      ],
      "text/plain": [
       "           Height   Armspan\n",
       "Height   1.000000  0.542759\n",
       "Armspan  0.542759  1.000000"
      ]
     },
     "execution_count": 39,
     "metadata": {},
     "output_type": "execute_result"
    }
   ],
   "source": [
    "dfheight.corr()"
   ]
  },
  {
   "cell_type": "code",
   "execution_count": 40,
   "metadata": {},
   "outputs": [
    {
     "data": {
      "image/png": "[encoded data removed]",
      "text/plain": [
       "<matplotlib.figure.Figure at 0x7f2c4195ff28>"
      ]
     },
     "metadata": {
      "needs_background": "light"
     },
     "output_type": "display_data"
    }
   ],
   "source": [
    "plt.scatter(dfheight.Height, dfheight.Armspan)\n",
    "plt.show()"
   ]
  },
  {
   "cell_type": "code",
   "execution_count": 41,
   "metadata": {},
   "outputs": [
    {
     "data": {
      "image/png": "[encoded data removed]",
      "text/plain": [
       "<matplotlib.figure.Figure at 0x7f2c419b67f0>"
      ]
     },
     "metadata": {
      "needs_background": "light"
     },
     "output_type": "display_data"
    },
    {
     "data": {
      "image/png": "[encoded data removed]",
      "text/plain": [
       "<matplotlib.figure.Figure at 0x7f2c4430ee48>"
      ]
     },
     "metadata": {
      "needs_background": "light"
     },
     "output_type": "display_data"
    }
   ],
   "source": [
    "dfheight = dfheight.dropna()\n",
    "len(dfheight)\n",
    "plt.hist(dfheight.Height)\n",
    "plt.title('Height')\n",
    "plt.show()\n",
    "plt.hist(dfheight.Armspan)\n",
    "plt.title('Armspan')\n",
    "plt.show()"
   ]
  },
  {
   "cell_type": "code",
   "execution_count": 42,
   "metadata": {},
   "outputs": [
    {
     "data": {
      "image/png": "[encoded data removed]",
      "text/plain": [
       "<matplotlib.figure.Figure at 0x7f2c41a8e2b0>"
      ]
     },
     "metadata": {
      "needs_background": "light"
     },
     "output_type": "display_data"
    },
    {
     "data": {
      "image/png": "[encoded data removed]",
      "text/plain": [
       "<matplotlib.figure.Figure at 0x7f2c41a18710>"
      ]
     },
     "metadata": {
      "needs_background": "light"
     },
     "output_type": "display_data"
    }
   ],
   "source": [
    "dfheight = dfheight[dfheight.Armspan <= 250]\n",
    "dfheight = dfheight[dfheight.Armspan >= 50]\n",
    "dfheight = dfheight[dfheight.Height >= 50]\n",
    "\n",
    "plt.hist(dfheight.Height)\n",
    "plt.title('Height')\n",
    "plt.show()\n",
    "plt.hist(dfheight.Armspan)\n",
    "plt.title('Armspan')\n",
    "plt.show()"
   ]
  },
  {
   "cell_type": "code",
   "execution_count": 43,
   "metadata": {},
   "outputs": [
    {
     "data": {
      "text/html": [
       "<div>\n",
       "<style>\n",
       "    .dataframe thead tr:only-child th {\n",
       "        text-align: right;\n",
       "    }\n",
       "\n",
       "    .dataframe thead th {\n",
       "        text-align: left;\n",
       "    }\n",
       "\n",
       "    .dataframe tbody tr th {\n",
       "        vertical-align: top;\n",
       "    }\n",
       "</style>\n",
       "<table border=\"1\" class=\"dataframe\">\n",
       "  <thead>\n",
       "    <tr style=\"text-align: right;\">\n",
       "      <th></th>\n",
       "      <th>Height</th>\n",
       "      <th>Armspan</th>\n",
       "    </tr>\n",
       "  </thead>\n",
       "  <tbody>\n",
       "    <tr>\n",
       "      <th>Height</th>\n",
       "      <td>1.000000</td>\n",
       "      <td>0.519981</td>\n",
       "    </tr>\n",
       "    <tr>\n",
       "      <th>Armspan</th>\n",
       "      <td>0.519981</td>\n",
       "      <td>1.000000</td>\n",
       "    </tr>\n",
       "  </tbody>\n",
       "</table>\n",
       "</div>"
      ],
      "text/plain": [
       "           Height   Armspan\n",
       "Height   1.000000  0.519981\n",
       "Armspan  0.519981  1.000000"
      ]
     },
     "execution_count": 43,
     "metadata": {},
     "output_type": "execute_result"
    }
   ],
   "source": [
    "dfheight.corr()"
   ]
  },
  {
   "cell_type": "code",
   "execution_count": 44,
   "metadata": {},
   "outputs": [
    {
     "data": {
      "image/png": "[encoded data removed]",
      "text/plain": [
       "<matplotlib.figure.Figure at 0x7f2c419c1400>"
      ]
     },
     "metadata": {
      "needs_background": "light"
     },
     "output_type": "display_data"
    }
   ],
   "source": [
    "plt.scatter(dfheight.Height, dfheight.Armspan)\n",
    "plt.show()"
   ]
  },
  {
   "cell_type": "markdown",
   "metadata": {},
   "source": [
    "# Conclusion\n",
    "\n",
    "There is an obvious correlation between armspan and height. Taller people have larger armspans, and shorter people have smaller armspans. It also appears as though most people have armspans that are very similar to their heights."
   ]
  }
 ],
 "metadata": {
  "kernelspec": {
   "display_name": "Python 3",
   "language": "python",
   "name": "python3"
  },
  "language_info": {
   "codemirror_mode": {
    "name": "ipython",
    "version": 3
   },
   "file_extension": ".py",
   "mimetype": "text/x-python",
   "name": "python",
   "nbconvert_exporter": "python",
   "pygments_lexer": "ipython3",
   "version": "3.5.2"
  }
 },
 "nbformat": 4,
 "nbformat_minor": 2
}
